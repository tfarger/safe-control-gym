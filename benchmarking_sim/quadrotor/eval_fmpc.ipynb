{
 "cells": [
  {
   "cell_type": "markdown",
   "metadata": {},
   "source": [
    "# Evaluating 2D FMPC, comparing to MPC_acados"
   ]
  },
  {
   "cell_type": "code",
   "execution_count": 1,
   "metadata": {},
   "outputs": [],
   "source": [
    "import numpy as np\n",
    "import os\n",
    "import sys\n",
    "import matplotlib.pyplot as plt"
   ]
  },
  {
   "cell_type": "markdown",
   "metadata": {},
   "source": [
    "# Functions"
   ]
  },
  {
   "cell_type": "code",
   "execution_count": 2,
   "metadata": {},
   "outputs": [],
   "source": [
    "def extract_rollouts(notebook_dir, data_folder, controller_name, additional=''):\n",
    "    # print('notebook_dir', notebook_dir)\n",
    "    data_folder_path = os.path.join(notebook_dir, controller_name, data_folder)\n",
    "    # print('data_folder_path', data_folder_path)\n",
    "    assert os.path.exists(data_folder_path), 'data_folder_path does not exist'\n",
    "\n",
    "    # find all the subfolders in the data_folder_path\n",
    "    subfolders = [f.path for f in os.scandir(data_folder_path) if f.is_dir()]\n",
    "    # print('subfolders', subfolders)\n",
    "    # load the row 'rmse in the metrics.txt\n",
    "    metrics = []\n",
    "    traj_resutls = []\n",
    "    mse_results = []\n",
    "    for subfolder in subfolders:\n",
    "        file_path = os.path.join(subfolder, 'metrics.txt')\n",
    "        with open(file_path, 'r') as file:\n",
    "            lines = file.readlines()\n",
    "            for line in lines:\n",
    "                if not line.startswith('rmse_std') and line.startswith('rmse'):\n",
    "                    # split the text between : and \\n\n",
    "                    line = line.split(': ')[-1].split('\\n')[0]\n",
    "                    metrics.append(eval(line))\n",
    "\n",
    "        # find the file ends with pickle and get the data\n",
    "        for file in os.listdir(subfolder):\n",
    "            if file.endswith('.pkl'):\n",
    "                file_path = os.path.join(subfolder, file)\n",
    "                # print('file_path', file_path)\n",
    "                results = np.load(file_path, allow_pickle=True)\n",
    "                traj_data = results['trajs_data']['obs'][0]\n",
    "                traj_resutls.append(traj_data)\n",
    "\n",
    "                # get mse of each timestep\n",
    "                # if the data field is contained in step info dict\n",
    "                episode_data = []\n",
    "                for ep_info in results['trajs_data']['info']:\n",
    "                    ep_info_data = []\n",
    "                    for info in ep_info:\n",
    "                        if 'mse' in info:\n",
    "                            ep_info_data.append(info.get('mse'))\n",
    "                    episode_data.append(np.array(ep_info_data)) \n",
    "                mse_results.append(episode_data)\n",
    "            \n",
    "\n",
    "    traj_resutls = np.array(traj_resutls)\n",
    "    mse_results = np.array(mse_results)\n",
    "    mse_results = np.squeeze(mse_results)\n",
    "    # traj_file_name = f'traj_results_{controller_name}{additional}.npy'\n",
    "    # np.save(traj_file_name, traj_resutls)\n",
    "    print('traj_results.shape', traj_resutls.shape)\n",
    "    # print('metrics', metrics)\n",
    "    rmse_mean_mpc = np.mean(metrics)\n",
    "    rmse_std_mpc = np.std(metrics)\n",
    "    print(f'rmse_{controller_name}{additional}', rmse_mean_mpc, rmse_std_mpc)\n",
    "    return traj_resutls, metrics, mse_results\n"
   ]
  },
  {
   "cell_type": "code",
   "execution_count": 3,
   "metadata": {},
   "outputs": [],
   "source": [
    "from scipy.spatial import ConvexHull\n",
    "from matplotlib.patches import Polygon\n",
    "def plot_xz_trajectory_with_hull(ax, traj_data, label=None, \n",
    "                                 traj_color='skyblue', hull_color='lightblue',\n",
    "                                 alpha=0.5, padding_factor=1.1):\n",
    "    '''Plot trajectories with convex hull showing variance over seeds.\n",
    "    \n",
    "    Args:\n",
    "        ax (Axes): Matplotlib axes.\n",
    "        traj_data (np.ndarray): Trajectory data of shape (num_seeds, num_steps, 6).\n",
    "        padding_factor (float): Padding factor for the convex hull.\n",
    "    '''\n",
    "    num_seeds, num_steps, _ = traj_data.shape\n",
    "\n",
    "    print('traj data shape:', traj_data.shape)\n",
    "    mean_traj = np.mean(traj_data, axis=0)\n",
    "    \n",
    "    ax.plot(mean_traj[:, 0], mean_traj[:, 2], color=traj_color, label=label)\n",
    "    # plot the hull\n",
    "    for i in range(num_steps - 1):\n",
    "        # plot the hull at a single step\n",
    "        points_at_step = traj_data[:, i, [0, 2]]\n",
    "        hull = ConvexHull(points_at_step)\n",
    "        cent = np.mean(points_at_step, axis=0) # center\n",
    "        pts = points_at_step[hull.vertices] # vertices\n",
    "        poly = Polygon(padding_factor*(pts - cent) + cent, \n",
    "                       closed=True,  \n",
    "                       capstyle='round', \n",
    "                       facecolor=hull_color,\n",
    "                       alpha=alpha)\n",
    "        ax.add_patch(poly)\n",
    "\n",
    "        # connecting consecutive convex hulls\n",
    "        points_at_next_step = traj_data[:, i+1, [0, 2]]\n",
    "        points_connecting = np.concatenate([points_at_step, points_at_next_step], axis=0)\n",
    "        hull_connecting = ConvexHull(points_connecting)\n",
    "        cent_connecting = np.mean(points_connecting, axis=0)\n",
    "        pts_connecting = points_connecting[hull_connecting.vertices]\n",
    "        poly_connecting = Polygon(padding_factor*(pts_connecting - cent_connecting) + cent_connecting, \n",
    "                                  closed=True,  \n",
    "                                  capstyle='round', \n",
    "                                  facecolor=hull_color,\n",
    "                                  alpha=alpha)\n",
    "        ax.add_patch(poly_connecting)"
   ]
  },
  {
   "cell_type": "code",
   "execution_count": 4,
   "metadata": {},
   "outputs": [],
   "source": [
    "def run_rollouts(additional='' ):\n",
    "    import mb_experiment_rollout\n",
    "    start_seed = 10\n",
    "    num_seed = 1\n",
    "    algo = 'fmpc'\n",
    "    num_runs_per_seed = 1\n",
    "\n",
    "    for seed in range(start_seed, num_seed + start_seed):\n",
    "        for _ in range(num_runs_per_seed):\n",
    "            mb_experiment_rollout.run(seed=seed, Additional=additional, ALGO=algo)"
   ]
  },
  {
   "cell_type": "code",
   "execution_count": 5,
   "metadata": {},
   "outputs": [],
   "source": [
    "def plot_trajectory(notebook_dir, data_folder, title):\n",
    "    from safe_control_gym.utils.configuration import ConfigFactory\n",
    "    from functools import partial\n",
    "    from safe_control_gym.utils.registration import make\n",
    "    #########################################################################\n",
    "    # launch SCG to get reference trajectory X_GOAL\n",
    "    ALGO = 'fmpc'\n",
    "    SYS = 'quadrotor_2D_attitude'\n",
    "    TASK = 'tracking'\n",
    "    # PRIOR = '200_hpo'\n",
    "    PRIOR = '100'\n",
    "    agent = 'quadrotor' if SYS == 'quadrotor_2D' or SYS == 'quadrotor_2D_attitude' else SYS\n",
    "    SAFETY_FILTER = None\n",
    "\n",
    "    # check if the config file exists\n",
    "    assert os.path.exists(f'./config_overrides/{SYS}_{TASK}.yaml'), f'../config_overrides/{SYS}_{TASK}.yaml does not exist'\n",
    "    assert os.path.exists(f'./config_overrides/{ALGO}_{SYS}_{TASK}_{PRIOR}.yaml'), f'../config_overrides/{ALGO}_{SYS}_{TASK}_{PRIOR}.yaml does not exist'\n",
    "    if SAFETY_FILTER is None:\n",
    "        sys.argv[1:] = ['--algo', ALGO,\n",
    "                        '--task', agent,\n",
    "                        '--overrides',\n",
    "                            f'./config_overrides/{SYS}_{TASK}.yaml',\n",
    "                            f'./config_overrides/{ALGO}_{SYS}_{TASK}_{PRIOR}.yaml',\n",
    "                        '--seed', '2',\n",
    "                        '--use_gpu', 'True',\n",
    "                        '--output_dir', f'./{ALGO}/results',\n",
    "                            ]\n",
    "    fac = ConfigFactory()\n",
    "    fac.add_argument('--func', type=str, default='train', help='main function to run.')\n",
    "    fac.add_argument('--n_episodes', type=int, default=1, help='number of episodes to run.')\n",
    "    # merge config and create output directory\n",
    "    config = fac.merge()\n",
    "    # Create an environment\n",
    "    env_func = partial(make,\n",
    "                        config.task,\n",
    "                        seed=config.seed,\n",
    "                        **config.task_config\n",
    "                        )\n",
    "    random_env = env_func(gui=False)\n",
    "    X_GOAL = random_env.X_GOAL\n",
    "    ##########################################################################\n",
    "    # load trajectory pkl files, load from folder\n",
    "    controller_name = 'fmpc'\n",
    "    fmpc_data_path = os.path.join(notebook_dir, controller_name, data_folder)\n",
    "    assert os.path.exists(fmpc_data_path), 'data_folder_path does not exist'\n",
    "    # fmpc_data_path = '/home/tobias/Studium/masterarbeit/code/safe-control-gym/benchmarking_sim/quadrotor/fmpc/results_rollout/temp'\n",
    "    fmpc_data_dirs = [d for d in os.listdir(fmpc_data_path) if os.path.isdir(os.path.join(fmpc_data_path, d))]\n",
    "    fmpc_traj_data_name = 'fmpc_data_quadrotor_traj_tracking.pkl'\n",
    "    fmpc_traj_data_name = [os.path.join(d, fmpc_traj_data_name) for d in fmpc_data_dirs]\n",
    "\n",
    "    fmpc_data = []\n",
    "    for d in fmpc_traj_data_name:\n",
    "        fmpc_data.append(np.load(os.path.join(fmpc_data_path, d), allow_pickle=True))\n",
    "    fmpc_traj_data = [d['trajs_data']['obs'][0] for d in fmpc_data]\n",
    "    fmpc_traj_data = np.array(fmpc_traj_data)\n",
    "    print(fmpc_traj_data.shape) # seed, time_step, obs\n",
    "    # take average of all seeds\n",
    "    mpc_mean_traj_data = np.mean(fmpc_traj_data, axis=0)\n",
    "    print(mpc_mean_traj_data.shape) # (mean_541, 6)\n",
    "\n",
    "\n",
    "    # Define Colors\n",
    "    ref_color = 'black'\n",
    "    fmpc_color = 'purple'\n",
    "    fmpc_hull_color = 'violet'\n",
    "\n",
    "    # plot the state path x, z [0, 2]\n",
    "    title_fontsize = 20\n",
    "    legend_fontsize = 14\n",
    "    axis_label_fontsize = 14\n",
    "    axis_tick_fontsize = 12\n",
    "\n",
    "    fig, ax = plt.subplots(figsize=(8, 4))\n",
    "    # adjust the distance between title and the plot\n",
    "    fig.subplots_adjust(top=0.2)\n",
    "    ax.plot(X_GOAL[:, 0], X_GOAL[:, 2], color=ref_color, linestyle='-.', label='Reference')\n",
    "    # ax.plot()\n",
    "    ax.set_xlabel('$x$ [m]', fontsize=axis_label_fontsize)\n",
    "    ax.set_ylabel('$z$ [m]', fontsize=axis_label_fontsize)\n",
    "    ax.tick_params(axis='both', which='major', labelsize=axis_tick_fontsize)\n",
    "    # ax.set_title('State path in $x$-$z$ plane')\n",
    "    # set the super title\n",
    "    # if not generalization:\n",
    "    #     fig.suptitle(f'Evaluation ({plot_name})', fontsize=title_fontsize)\n",
    "    # else:\n",
    "    #     fig.suptitle(f'Generalization ({plot_name})', fontsize=title_fontsize)\n",
    "    fig.suptitle(title, fontsize=title_fontsize)\n",
    "    ax.set_ylim(0.35, 1.85)\n",
    "    ax.set_xlim(-1.6, 1.6)\n",
    "    fig.tight_layout()\n",
    "\n",
    "\n",
    "    # plot the convex hull of each steps\n",
    "    k = 1.1 # padding factor\n",
    "    alpha = 0.2\n",
    "\n",
    "    plot_xz_trajectory_with_hull(ax, fmpc_traj_data, label='FMPC',\n",
    "                                    traj_color=fmpc_color, hull_color=fmpc_hull_color,\n",
    "                                    alpha=alpha, padding_factor=k)\n",
    "\n",
    "    ax.legend(ncol=5, loc='upper center', fontsize=legend_fontsize)\n",
    "\n",
    "    fig.savefig(os.path.join(fmpc_data_path, 'xz_path_performance.png'), dpi=300, bbox_inches='tight')"
   ]
  },
  {
   "cell_type": "markdown",
   "metadata": {},
   "source": [
    "# Run MPC_ACADOS Rollouts - Reference to compare to"
   ]
  },
  {
   "cell_type": "code",
   "execution_count": 6,
   "metadata": {},
   "outputs": [
    {
     "name": "stdout",
     "output_type": "stream",
     "text": [
      "notebook_dir /home/tobias/Studium/masterarbeit/code/safe-control-gym/benchmarking_sim/quadrotor\n"
     ]
    }
   ],
   "source": [
    "notebook_dir = os.path.dirname(os.path.abspath('__file__'))\n",
    "print('notebook_dir', notebook_dir)\n",
    "\n",
    "colors = plt.rcParams['axes.prop_cycle'].by_key()['color']\n",
    "s = 2 # times of std"
   ]
  },
  {
   "cell_type": "code",
   "execution_count": null,
   "metadata": {},
   "outputs": [],
   "source": [
    "import mb_experiment_rollout\n",
    "start_seed = 10\n",
    "num_seed = 10\n",
    "algo = 'mpc_acados'\n",
    "num_runs_per_seed = 1\n",
    "additional = ''\n",
    "\n",
    "for seed in range(start_seed, num_seed + start_seed):\n",
    "    for _ in range(num_runs_per_seed):\n",
    "        mb_experiment_rollout.run(seed=seed, Additional=additional, ALGO=algo)"
   ]
  },
  {
   "cell_type": "code",
   "execution_count": 8,
   "metadata": {},
   "outputs": [
    {
     "name": "stdout",
     "output_type": "stream",
     "text": [
      "traj_results.shape (10, 661, 6)\n",
      "rmse_mpc_acados 0.04676349325205464 0.006205827699533016\n"
     ]
    }
   ],
   "source": [
    "# get rmse overall value and over trajectory\n",
    "ctrl = 'mpc_acados'\n",
    "data_folder = f'results_rollout{additional}/temp'\n",
    "traj_resutls_mpc, metrics_mpc, mse_data_mpc = extract_rollouts(notebook_dir, data_folder, ctrl, additional)"
   ]
  },
  {
   "cell_type": "code",
   "execution_count": 9,
   "metadata": {},
   "outputs": [
    {
     "name": "stdout",
     "output_type": "stream",
     "text": [
      "[0.038365223372188846, 0.04720698097881524, 0.03859616891167079, 0.05166937582584034, 0.05279399554559567, 0.05229664657666273, 0.054355105174668274, 0.038145061123200506, 0.05060311703193835, 0.043603257979965684]\n",
      "[0.03836522 0.04720698 0.03859617 0.05166938 0.052794   0.05229665\n",
      " 0.05435511 0.03814506 0.05060312 0.04360326]\n",
      "[0. 0. 0. 0. 0. 0. 0. 0. 0. 0.]\n"
     ]
    }
   ],
   "source": [
    "# sanity check: recreate rmse from SCG eval\n",
    "rmse_data_check = np.sqrt(np.mean(mse_data_mpc, axis=1))\n",
    "print(metrics_mpc)\n",
    "print(rmse_data_check)\n",
    "print(rmse_data_check - metrics_mpc)"
   ]
  },
  {
   "cell_type": "markdown",
   "metadata": {},
   "source": [
    "# Run FMPC with acados\n",
    "\n",
    "# DELETE THE FMPC FOLDER!!!!!!"
   ]
  },
  {
   "cell_type": "code",
   "execution_count": null,
   "metadata": {},
   "outputs": [],
   "source": [
    "import mb_experiment_rollout\n",
    "start_seed = 10\n",
    "num_seed = 10\n",
    "algo = 'fmpc'\n",
    "num_runs_per_seed = 1\n",
    "additional = ''\n",
    "\n",
    "for seed in range(start_seed, num_seed + start_seed):\n",
    "    for _ in range(num_runs_per_seed):\n",
    "        mb_experiment_rollout.run(seed=seed, Additional=additional, ALGO=algo)"
   ]
  },
  {
   "cell_type": "code",
   "execution_count": 21,
   "metadata": {},
   "outputs": [
    {
     "name": "stdout",
     "output_type": "stream",
     "text": [
      "traj_results.shape (10, 661, 6)\n",
      "rmse_fmpc 0.071335602570633 0.006653161154286605\n"
     ]
    }
   ],
   "source": [
    "# get rmse overall value and over trajectory\n",
    "ctrl = 'fmpc'\n",
    "data_folder = f'results_rollout{additional}/temp'\n",
    "traj_resutls_fmpc, metrics_fmpc, mse_data_fmpc = extract_rollouts(notebook_dir, data_folder, ctrl, additional)"
   ]
  },
  {
   "cell_type": "markdown",
   "metadata": {},
   "source": [
    "# Comparison and Plots"
   ]
  },
  {
   "cell_type": "code",
   "execution_count": 22,
   "metadata": {},
   "outputs": [],
   "source": [
    "tracking_error_mpc = np.sqrt(mse_data_mpc)\n",
    "tracking_error_mpc_mean = np.mean(tracking_error_mpc, axis=0) # averaged over runs\n",
    "tracking_error_mpc_std = np.std(tracking_error_mpc, axis=0) \n",
    "\n",
    "tracking_error_fmpc = np.sqrt(mse_data_fmpc)\n",
    "tracking_error_fmpc_mean = np.mean(tracking_error_fmpc, axis=0) # averaged over runs\n",
    "tracking_error_fmpc_std = np.std(tracking_error_fmpc, axis=0) \n",
    "\n"
   ]
  },
  {
   "cell_type": "code",
   "execution_count": 23,
   "metadata": {},
   "outputs": [
    {
     "data": {
      "image/png": "[encoded data removed]",
      "text/plain": [
       "<Figure size 640x480 with 1 Axes>"
      ]
     },
     "metadata": {},
     "output_type": "display_data"
    }
   ],
   "source": [
    "# plot tracking error over time\n",
    "import matplotlib.pyplot as plt\n",
    "\n",
    "timesteps = np.arange(0, len(tracking_error_mpc_mean))\n",
    "std_factor = 1\n",
    "plt.figure()\n",
    "\n",
    "plt.plot(timesteps, tracking_error_mpc_mean, color='blue', label='mpc_acados')\n",
    "plt.fill_between(timesteps, tracking_error_mpc_mean+tracking_error_mpc_std*std_factor,\n",
    "                  tracking_error_mpc_mean-tracking_error_mpc_std*std_factor, \n",
    "                  color='blue', alpha=0.2)\n",
    "\n",
    "plt.plot(timesteps, tracking_error_fmpc_mean, color='red', label='fmpc')\n",
    "plt.fill_between(timesteps, tracking_error_fmpc_mean+tracking_error_fmpc_std*std_factor,\n",
    "                  tracking_error_fmpc_mean-tracking_error_fmpc_std*std_factor, \n",
    "                  color='red', alpha=0.2)\n",
    "\n",
    "y_label_text = 'tracking error +- {} standard deviation'.format(std_factor)\n",
    "plt.ylabel(y_label_text)\n",
    "plt.xlabel('timestep number')\n",
    "plt.legend()\n",
    "\n",
    "plt.savefig(os.path.join(notebook_dir, 'tracking_error.png'), dpi=300, bbox_inches='tight')\n",
    "\n",
    "plt.show()"
   ]
  },
  {
   "cell_type": "code",
   "execution_count": 24,
   "metadata": {},
   "outputs": [
    {
     "name": "stdout",
     "output_type": "stream",
     "text": [
      "            MPC_acados | FMPC\n",
      " average_rmse: 46.76mm | 71.34mm\n",
      "1st_loop_rmse: 64.83mm | 100.86mm\n",
      "2nd_loop_rmse: 13.40mm | 5.96mm\n"
     ]
    }
   ],
   "source": [
    "# performance metrics\n",
    "first_loop_end = int(11/2*60)-1\n",
    "#print(first_loop_end)\n",
    "average_rmse_mpc = np.mean(np.sqrt(np.mean(mse_data_mpc, axis=1)))\n",
    "average_rmse_mpc_1st_loop = np.mean(np.sqrt(np.mean(mse_data_mpc[:, :first_loop_end], axis=1)))\n",
    "average_rmse_mpc_2nd_loop = np.mean(np.sqrt(np.mean(mse_data_mpc[:, first_loop_end:], axis=1)))\n",
    "\n",
    "average_rmse_fmpc = np.mean(np.sqrt(np.mean(mse_data_fmpc, axis=1)))\n",
    "average_rmse_fmpc_1st_loop = np.mean(np.sqrt(np.mean(mse_data_fmpc[:, :first_loop_end], axis=1)))\n",
    "average_rmse_fmpc_2nd_loop = np.mean(np.sqrt(np.mean(mse_data_fmpc[:, first_loop_end:], axis=1)))\n",
    "\n",
    "print('            MPC_acados | FMPC')\n",
    "print(' average_rmse: {:.2f}mm | {:.2f}mm'.format(average_rmse_mpc*1000, average_rmse_fmpc*1000))\n",
    "print('1st_loop_rmse: {:.2f}mm | {:.2f}mm'.format(average_rmse_mpc_1st_loop*1000, average_rmse_fmpc_1st_loop*1000))\n",
    "print('2nd_loop_rmse: {:.2f}mm | {:.2f}mm'.format(average_rmse_mpc_2nd_loop*1000, average_rmse_fmpc_2nd_loop*1000))\n"
   ]
  },
  {
   "cell_type": "code",
   "execution_count": null,
   "metadata": {},
   "outputs": [
    {
     "name": "stdout",
     "output_type": "stream",
     "text": [
      "0.07298183741180685\n",
      "0.06286544954584447\n"
     ]
    }
   ],
   "source": [
    "# double check mean RMSE calculation in Tsungs eval. \n",
    "# calculate RMSE from exponentiated RMSE that is loged in txt file\n",
    "expRMSE_baseline = np.array([0.9305845488056583, 0.9304426857807722, 0.9281569630732948, 0.9306818918858932, 0.9282261494854975])\n",
    "expRMSE_vizier = np.array([0.9398041551468934, 0.9383339155888706, 0.9384341866308613, 0.9410820898019783, 0.9376986856896693])\n",
    "\n",
    "rmse_baseline = - np.log(expRMSE_baseline)\n",
    "rmse_vizier = -np.log(expRMSE_vizier)\n",
    "\n",
    "print(np.mean(rmse_baseline))\n",
    "print(np.mean(rmse_vizier))\n",
    "# checks out, is the same"
   ]
  },
  {
   "cell_type": "markdown",
   "metadata": {},
   "source": [
    "# OLD STUFF"
   ]
  },
  {
   "cell_type": "code",
   "execution_count": null,
   "metadata": {},
   "outputs": [],
   "source": [
    "ctrl = 'fmpc'\n",
    "# for additional in additionals_list:\n",
    "#     data_folder = f'results_rollout{additional}/temp'\n",
    "#     traj_resutls, metrics = extract_rollouts(notebook_dir, data_folder, ctrl, additional)\n",
    "\n",
    "additional = ''\n",
    "data_folder = f'results_rollout{additional}/temp'\n",
    "traj_resutls, metrics, timing_data = extract_rollouts(notebook_dir, data_folder, ctrl, additional)\n",
    "sp_plot_perf = np.mean(metrics) # spider plot performance\n",
    "\n",
    "additional = '_slow'\n",
    "data_folder = f'results_rollout{additional}/temp'\n",
    "traj_resutls, metrics, _ = extract_rollouts(notebook_dir, data_folder, ctrl, additional)\n",
    "sp_plot_gen_slow = np.mean(metrics) # spider plot generalization performance slow\n",
    "\n",
    "additional = '_fast'\n",
    "data_folder = f'results_rollout{additional}/temp'\n",
    "traj_resutls, metrics, _ = extract_rollouts(notebook_dir, data_folder, ctrl, additional)\n",
    "sp_plot_gen_fast = np.mean(metrics) # spider plot generalization performance fast\n",
    "\n",
    "print('rmse_eval:', sp_plot_perf)\n",
    "print('rmse_slow:', sp_plot_gen_slow)\n",
    "print('rmse_fast:', sp_plot_gen_fast)"
   ]
  },
  {
   "cell_type": "markdown",
   "metadata": {},
   "source": [
    "### Evaluate mean execution time --> Inference time in spider plot"
   ]
  },
  {
   "cell_type": "markdown",
   "metadata": {},
   "source": [
    "# Plot Trajectory with Hull - like slide 8\n",
    "\n",
    "Later this needs to be added to the other Model based algorithms, cannot do that right now as I don't have that data"
   ]
  },
  {
   "cell_type": "code",
   "execution_count": null,
   "metadata": {},
   "outputs": [],
   "source": [
    "additional = ''\n",
    "data_folder = f'results_rollout{additional}/temp'\n",
    "plot_trajectory(notebook_dir, data_folder, 'Evaluation')\n",
    "\n",
    "additional = '_slow'\n",
    "data_folder = f'results_rollout{additional}/temp'\n",
    "plot_trajectory(notebook_dir, data_folder, 'Generalization (slower)')\n",
    "\n",
    "additional = '_fast'\n",
    "data_folder = f'results_rollout{additional}/temp'\n",
    "plot_trajectory(notebook_dir, data_folder, 'Generalization (faster)')"
   ]
  }
 ],
 "metadata": {
  "kernelspec": {
   "display_name": "safe",
   "language": "python",
   "name": "python3"
  },
  "language_info": {
   "codemirror_mode": {
    "name": "ipython",
    "version": 3
   },
   "file_extension": ".py",
   "mimetype": "text/x-python",
   "name": "python",
   "nbconvert_exporter": "python",
   "pygments_lexer": "ipython3",
   "version": "3.10.15"
  }
 },
 "nbformat": 4,
 "nbformat_minor": 2
}
