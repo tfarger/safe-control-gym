{
 "cells": [
  {
   "cell_type": "code",
   "execution_count": 103,
   "metadata": {},
   "outputs": [],
   "source": [
    "import numpy as np\n",
    "import os\n",
    "import sys\n",
    "import matplotlib.pyplot as plt"
   ]
  },
  {
   "cell_type": "code",
   "execution_count": 104,
   "metadata": {},
   "outputs": [
    {
     "name": "stdout",
     "output_type": "stream",
     "text": [
      "notebook_dir /home/mingxuan/Repositories/scg_tsung/benchmarking_sim/quadrotor\n",
      "data_folder_path /home/mingxuan/Repositories/scg_tsung/benchmarking_sim/quadrotor/gpmpc_acados/results\n"
     ]
    }
   ],
   "source": [
    "notebook_dir = os.path.dirname(os.path.abspath('__file__'))\n",
    "print('notebook_dir', notebook_dir)\n",
    "data_folder = 'gpmpc_acados/results'\n",
    "data_folder_path = os.path.join(notebook_dir, data_folder)\n",
    "assert os.path.exists(data_folder_path), 'data_folder_path does not exist'\n",
    "print('data_folder_path', data_folder_path)\n",
    "\n",
    "colors = plt.rcParams['axes.prop_cycle'].by_key()['color']\n",
    "s = 2 # times of std"
   ]
  },
  {
   "cell_type": "code",
   "execution_count": 105,
   "metadata": {},
   "outputs": [],
   "source": [
    "def extract_rollouts(notebook_dir, data_folder, controller_name, additional=''):\n",
    "    # print('notebook_dir', notebook_dir)\n",
    "    data_folder_path = os.path.join(notebook_dir, controller_name, data_folder)\n",
    "    # print('data_folder_path', data_folder_path)\n",
    "    assert os.path.exists(data_folder_path), 'data_folder_path does not exist'\n",
    "\n",
    "    # find all the subfolders in the data_folder_path\n",
    "    subfolders = [f.path for f in os.scandir(data_folder_path) if f.is_dir()]\n",
    "    # print('subfolders', subfolders)\n",
    "    # load the row 'rmse in the metrics.txt\n",
    "    metrics = []\n",
    "    traj_resutls = []\n",
    "    for subfolder in subfolders:\n",
    "        file_path = os.path.join(subfolder, 'metrics.txt')\n",
    "        with open(file_path, 'r') as file:\n",
    "            lines = file.readlines()\n",
    "            for line in lines:\n",
    "                if not line.startswith('rmse_std') and line.startswith('rmse'):\n",
    "                    # split the text between : and \\n\n",
    "                    line = line.split(': ')[-1].split('\\n')[0]\n",
    "                    metrics.append(eval(line))\n",
    "\n",
    "        # find the file ends with pickle and get the data\n",
    "        for file in os.listdir(subfolder):\n",
    "            if file.endswith('.pkl'):\n",
    "                file_path = os.path.join(subfolder, file)\n",
    "                # print('file_path', file_path)\n",
    "                results = np.load(file_path, allow_pickle=True)\n",
    "                traj_data = results['trajs_data']['obs'][0]\n",
    "                traj_resutls.append(traj_data)\n",
    "\n",
    "    traj_resutls = np.array(traj_resutls)\n",
    "    traj_file_name = f'traj_results_{controller_name}{additional}.npy'\n",
    "    np.save(traj_file_name, traj_resutls)\n",
    "    print('traj_results.shape', traj_resutls.shape)\n",
    "    # print('metrics', metrics)\n",
    "    rmse_mean_mpc = np.mean(metrics)\n",
    "    rmse_std_mpc = np.std(metrics)\n",
    "    print(f'rmse_{controller_name}{additional}', rmse_mean_mpc, rmse_std_mpc)\n",
    "    return traj_resutls, metrics\n"
   ]
  },
  {
   "cell_type": "code",
   "execution_count": 106,
   "metadata": {},
   "outputs": [],
   "source": [
    "class benchmark_rmse_data:\n",
    "    # data stored in the path like \"prior/seed/figs/\"\n",
    "    # each data is a csv file\n",
    "    def __init__(self, data_folder_path, controller_name, prior_name, dt):\n",
    "        self.data_folder_path = data_folder_path\n",
    "        self.controller_name = controller_name\n",
    "        self.prior_name = prior_name\n",
    "        self.controller_data_folder_path = os.path.join(data_folder_path, controller_name)\n",
    "        self.prior_data_folder_path = os.path.join(self.controller_data_folder_path, prior_name)\n",
    "        self.none_count = 0\n",
    "        self.early_stop = 0\n",
    "        self.max_seed = None\n",
    "        self.check_data_folder()\n",
    "        self.find_all_seed_folders()\n",
    "        self.append_figs_to_seeds()\n",
    "        self.load_csv_cost_data_all_seeds()\n",
    "        self.early_stop_ratio = self.early_stop / self.max_seed\n",
    "        self.dt = dt\n",
    "\n",
    "    def check_data_folder(self):\n",
    "        if not os.path.exists(self.prior_data_folder_path):\n",
    "            print('prior data folder does not exist')\n",
    "            return False\n",
    "        print(f'prior data {self.prior_name} folder exists')\n",
    "        return True\n",
    "    \n",
    "    def find_all_seed_folders(self):\n",
    "        # find all folder name in the prior data folder\n",
    "        self.seed_folders = [f for f in os.listdir(self.prior_data_folder_path) \\\n",
    "                        if os.path.isdir(os.path.join(self.prior_data_folder_path, f))]\n",
    "        # get the number between 'seed' and '_'\n",
    "        # print('seed_folders)\n",
    "        seed_list = [int(f.split('seed')[1].split('_')[0]) for f in self.seed_folders]\n",
    "        sorted_seed_folders = [x for _, x in sorted(zip(seed_list, self.seed_folders))]\n",
    "        self.seed_folders = sorted_seed_folders\n",
    "        self.max_seed = np.max(seed_list)\n",
    "        print('max seed', self.max_seed)\n",
    "        ''' uncomment the following line for less seeds\n",
    "        '''\n",
    "        # self.seed_folders = self.seed_folders[:5]\n",
    "    \n",
    "    def append_figs_to_seeds(self):\n",
    "        # append 'figs' to the end of seed_folders\n",
    "        self.seed_folders = [os.path.join(self.prior_data_folder_path, f) for f in self.seed_folders]\n",
    "        self.seed_folders = [os.path.join(f, 'figs') for f in self.seed_folders]\n",
    "    \n",
    "    def load_csv_cost_data(self, seed):\n",
    "        # load the csv file in the seed folder\n",
    "        # return the data in the csv file\n",
    "        seed_folder = self.seed_folders[seed-1]\n",
    "        csv_file = os.path.join(seed_folder, 'rmse_xz_error_learning_curve.csv')\n",
    "        # if the file does not exist, return None\n",
    "        if not os.path.exists(csv_file):\n",
    "            print(f'csv file for seed {seed} does not exist')\n",
    "            self.none_count += 1\n",
    "            return None\n",
    "        data = np.genfromtxt(csv_file, delimiter=',')\n",
    "        return data\n",
    "\n",
    "    def load_csv_cost_data_all_seeds(self):\n",
    "        # load all csv files in the seed folders\n",
    "        # return the data in the csv files\n",
    "        self.data_all_seeds = []\n",
    "        for seed in range(len(self.seed_folders)):\n",
    "            data = self.load_csv_cost_data(seed)\n",
    "            self.data_all_seeds.append(data)\n",
    "        all_epoch = [0 for _ in range(len(self.seed_folders))]\n",
    "        for data in self.data_all_seeds:\n",
    "            if data is not None:\n",
    "                all_epoch.append(data.shape[0])\n",
    "        self.sim_epoch = np.max(all_epoch)\n",
    "        print('sim_epoch', self.sim_epoch)\n",
    "        for i, data in enumerate(self.data_all_seeds):\n",
    "            if data is not None:\n",
    "                if data.shape[0] < self.sim_epoch:\n",
    "                    self.early_stop += 1\n",
    "                    print(f'seed {i} early stop with epoch {data.shape[0]}')\n",
    "            elif data is None:\n",
    "                self.early_stop += 1\n",
    "                print(f'seed {i} early stop with epoch 0')\n",
    "        # pop out the data with None and early stop\n",
    "        self.merged_data = []\n",
    "        for data in self.data_all_seeds:\n",
    "            if data is not None and data.shape[0] == self.sim_epoch:\n",
    "                self.merged_data.append(data)\n",
    "        \n",
    "    def get_mean_std(self):\n",
    "        # get the mean and std of the data\n",
    "        self.mean_data = np.mean(self.merged_data, axis=0)\n",
    "        self.std_data = np.std(self.merged_data, axis=0)\n",
    "        # round the first column of mean to integer\n",
    "        self.mean_data[:, 0] = np.round(self.mean_data[:, 0])\n",
    "        # leave out the first colum of the std\n",
    "        self.std_data = self.std_data[:, 1:]\n",
    "        self.std_data = self.std_data.squeeze()\n",
    "        # modify the data index axis wtih dt\n",
    "        self.mean_data[:, 0] = self.mean_data[:, 0] * self.dt\n",
    "        return self.mean_data, self.std_data\n",
    "        "
   ]
  },
  {
   "cell_type": "code",
   "execution_count": 107,
   "metadata": {},
   "outputs": [
    {
     "name": "stdout",
     "output_type": "stream",
     "text": [
      "rmse_ilqr 0.026000000000000002 0.001843908891458577\n"
     ]
    }
   ],
   "source": [
    "rmse_ilqr = [0.027, 0.027, 0.030, 0.024, 0.026, \n",
    "             0.026, 0.025, 0.027, 0.025, 0.023]\n",
    "rmse_mean_ilqr = np.mean(rmse_ilqr)\n",
    "rmse_std_ilqr = np.std(rmse_ilqr)\n",
    "print('rmse_ilqr', rmse_mean_ilqr, rmse_std_ilqr)\n",
    "results_ilqr = {'mean': rmse_mean_ilqr, 'std': rmse_std_ilqr}\n",
    "np.save('ilqr_ground_truth.npy', results_ilqr)"
   ]
  },
  {
   "cell_type": "code",
   "execution_count": 108,
   "metadata": {},
   "outputs": [
    {
     "name": "stdout",
     "output_type": "stream",
     "text": [
      "prior data 100_400/temp folder exists\n",
      "max seed 31\n",
      "csv file for seed 0 does not exist\n",
      "csv file for seed 3 does not exist\n",
      "csv file for seed 5 does not exist\n",
      "csv file for seed 6 does not exist\n",
      "csv file for seed 7 does not exist\n",
      "csv file for seed 8 does not exist\n",
      "csv file for seed 9 does not exist\n",
      "sim_epoch 10\n",
      "seed 0 early stop with epoch 0\n",
      "seed 3 early stop with epoch 0\n",
      "seed 5 early stop with epoch 0\n",
      "seed 6 early stop with epoch 0\n",
      "seed 7 early stop with epoch 0\n",
      "seed 8 early stop with epoch 0\n",
      "seed 9 early stop with epoch 0\n",
      "mean_hpo [[ 1.          0.28471097]\n",
      " [ 5.4         0.79403204]\n",
      " [10.43333333  0.89677603]\n",
      " [17.18333333  0.51622161]\n",
      " [24.25        0.4255844 ]\n",
      " [31.          0.66677813]\n",
      " [38.45        0.42302605]\n",
      " [45.33333333  0.65055779]\n",
      " [51.9         0.61864617]\n",
      " [59.13333333  0.44595418]]\n",
      "std_hpo [6.83262751e-04 7.37117688e-01 7.75248363e-01 6.86338723e-01\n",
      " 6.26057518e-01 7.87375863e-01 6.25447966e-01 8.50825476e-01\n",
      " 6.84192783e-01 6.42917580e-01]\n",
      "rmse_data [[0.28630936 0.05982058 0.28829104 0.05061444 0.04963006 0.05639375\n",
      "  0.84132871 0.05864602 1.00946163 0.38999454]\n",
      " [0.28458793 1.09810971 2.10754249 0.03991988 0.04533763 1.88956605\n",
      "  0.04620656 0.22758406 0.81736927 1.04170062]\n",
      " [0.28458793 1.09810971 2.10754249 0.03991988 0.04533763 1.88956605\n",
      "  0.04620656 0.22758406 0.81736927 1.04170062]\n",
      " [0.28410577 0.09063798 1.46119739 1.15472926 1.90904177 1.340839\n",
      "  1.38946428 1.4217137  1.44922776 1.89579876]\n",
      " [0.28413072 0.04254095 0.03984011 1.56935918 0.03800731 0.85036884\n",
      "  1.5432578  0.04951293 0.04101457 0.03909865]\n",
      " [0.28569209 0.07983206 0.04806048 0.05799803 1.25714393 1.64186209\n",
      "  0.05401999 1.84684771 0.05214346 0.05993937]\n",
      " [0.2848292  0.05547206 0.05078195 0.04943783 0.98879843 0.05008306\n",
      "  0.0633078  2.00556945 0.10860449 0.08250505]\n",
      " [0.28408237 0.0497198  0.06902483 0.04209665 0.04041729 0.05904941\n",
      "  0.04336212 0.04045381 1.23571602 1.82564367]\n",
      " [0.2841659  1.46127934 1.13634643 1.62117404 0.04133216 0.04554312\n",
      "  1.14211698 0.06649972 0.04329764 0.05931443]\n",
      " [0.28412883 1.41544484 1.83300782 1.69965085 1.30961074 1.92692937\n",
      "  0.04352939 1.98620302 0.0510191  1.96086214]\n",
      " [0.28453974 1.23775055 0.04993799 0.04990228 0.05155223 1.40885993\n",
      "  0.09721192 0.05062014 0.04859523 0.04976347]\n",
      " [0.28402302 0.05258268 1.93768381 0.04772929 1.9159016  0.04558667\n",
      "  0.0464931  2.01568349 1.4963239  0.04715684]\n",
      " [0.28449575 1.50134146 1.16905279 0.05454827 0.05280022 0.05235792\n",
      "  1.07298328 0.05439206 0.05481269 0.05345774]\n",
      " [0.28473648 0.07828774 0.06802366 0.05158667 0.05022267 0.05229286\n",
      "  0.05482048 0.04836329 0.11896664 1.06586432]\n",
      " [0.28566399 2.20871011 1.31447674 0.05747402 0.05239188 1.78298851\n",
      "  0.05614626 0.05558036 0.05232646 0.05465266]\n",
      " [0.28389056 0.03919599 0.39111382 0.0449466  0.04283261 1.15348233\n",
      "  0.05349087 0.04272164 1.00541544 0.04428546]\n",
      " [0.28497306 0.04445905 0.58928751 0.05106707 0.15001554 0.05449952\n",
      "  0.05416329 0.06590902 0.05858694 0.05979882]\n",
      " [0.28407965 1.97990478 1.76913753 1.41328716 0.04812125 0.04565738\n",
      "  1.54569882 0.04820709 2.07305408 0.0468939 ]\n",
      " [0.28505112 1.07345179 0.04923466 0.05626561 0.04914675 0.04755425\n",
      "  0.04751043 0.05699899 0.04637255 1.01196302]\n",
      " [0.28595323 1.58589115 1.38641722 1.78581424 1.19334788 2.0017109\n",
      "  0.05638003 2.09043809 2.00378049 0.05871877]\n",
      " [0.28454076 0.06570688 0.05211393 0.05172858 0.04795911 0.04663376\n",
      "  2.08202208 1.7622228  1.6640203  0.06471988]\n",
      " [0.28423834 1.7533631  0.04281881 0.12624362 0.04513968 0.04632742\n",
      "  0.04658397 1.8960604  0.93570432 0.04504927]\n",
      " [0.28403071 0.19676779 1.49767414 0.04244408 0.04909065 0.07818843\n",
      "  0.04687195 0.04230295 0.05418034 0.04479107]\n",
      " [0.28582554 1.12735229 1.0774958  1.14044071 1.11995033 0.04941636\n",
      "  0.0519614  0.05446731 0.06992557 0.05362089]\n",
      " [0.28511221 1.45506854 1.88329734 1.60716194 0.04648075 0.0536964\n",
      "  0.05051311 0.04936257 0.15886603 0.05156056]]\n",
      "q1 [0.28412883 0.05982058 0.05211393 0.04943783 0.04533763 0.04941636\n",
      " 0.04687195 0.04951293 0.05232646 0.04976347]\n",
      "q3 [0.28505112 1.45506854 1.49767414 1.15472926 0.98879843 1.40885993\n",
      " 0.84132871 1.7622228  1.00946163 1.01196302]\n",
      "mean_hpo [0.28471097 0.79403204 0.89677603 0.51622161 0.4255844  0.66677813\n",
      " 0.42302605 0.65055779 0.61864617 0.44595418]\n"
     ]
    },
    {
     "data": {
      "text/plain": [
       "<matplotlib.legend.Legend at 0x7faf617fa8e0>"
      ]
     },
     "execution_count": 108,
     "metadata": {},
     "output_type": "execute_result"
    },
    {
     "data": {
      "image/png": "[encoded data removed]",
      "text/plain": [
       "<Figure size 600x300 with 1 Axes>"
      ]
     },
     "metadata": {},
     "output_type": "display_data"
    }
   ],
   "source": [
    "controller_name = ''\n",
    "dt = 1/60\n",
    "# prior = '200_300_rti/temp'\n",
    "# data = benchmark_rmse_data(data_folder_path, controller_name, prior, dt)\n",
    "\n",
    "# prior_hpo = '100_400_copy/temp'\n",
    "# prior_hpo = '200_300_aggresive'\n",
    "prior_hpo = '100_400/temp'\n",
    "data_hpo = benchmark_rmse_data(data_folder_path, controller_name, prior_hpo, dt)\n",
    "mean_hpo, std_hpo = data_hpo.get_mean_std()\n",
    "mean_hpo[0, 0] = 1\n",
    "print('mean_hpo', mean_hpo)\n",
    "print('std_hpo', std_hpo)\n",
    "\n",
    "# get the 25 % and 75 % quantile\n",
    "merged_data = np.array(data_hpo.merged_data)\n",
    "# merged_data = data_hpo.merged_data\n",
    "rmse_data = merged_data[:, :, 1]\n",
    "print('rmse_data', rmse_data)\n",
    "q1 = np.percentile(rmse_data, 25, axis=0)\n",
    "q3 = np.percentile(rmse_data, 75, axis=0)\n",
    "\n",
    "print('q1', q1)\n",
    "print('q3', q3)\n",
    "print('mean_hpo', mean_hpo[:, 1])\n",
    "\n",
    "fig, ax = plt.subplots(figsize=(6, 3))\n",
    "ax.plot(mean_hpo[:, 0], mean_hpo[:, 1], label='GP-MPC', color=colors[0])\n",
    "# ax.fill_between(mean_hpo[:, 0], q1, q3, alpha=0.2, color=colors[0])\n",
    "ax.fill_between(mean_hpo[:, 0], mean_hpo[:, 1] - s * std_hpo, mean_hpo[:, 1] + s * std_hpo, alpha=0.2, color=colors[0])\n",
    "\n",
    "rmse_lmpc = 0.11634496692276783\n",
    "rmse_std_lmpc = 0.0032306407398551827\n",
    "rmse_nmpc = 0.05096096290371684 \n",
    "rmse_std_nmpc = 0.0046670871708050805\n",
    "\n",
    "ax.axhline(y=rmse_lmpc, color=colors[1], label='Linear MPC')\n",
    "ax.axhline(y=rmse_nmpc, color=colors[2], label='MPC')\n",
    "# ax.set_xscale('log')\n",
    "# ax.set_ylim([0, 0.8])\n",
    "# ax.set_xlim([0, 1e6])\n",
    "ax.set_xlabel('Training steps [s]')\n",
    "ax.set_ylabel('RMSE [m]')\n",
    "ax.legend()"
   ]
  },
  {
   "cell_type": "code",
   "execution_count": 109,
   "metadata": {},
   "outputs": [
    {
     "data": {
      "text/plain": [
       "(25, 10)"
      ]
     },
     "execution_count": 109,
     "metadata": {},
     "output_type": "execute_result"
    },
    {
     "data": {
      "image/png": "[encoded data removed]",
      "text/plain": [
       "<Figure size 600x200 with 1 Axes>"
      ]
     },
     "metadata": {},
     "output_type": "display_data"
    }
   ],
   "source": [
    "fig, ax = plt.subplots(1, 1, figsize=(6, 2))\n",
    "# mean, std = data.get_mean_std()\n",
    "# ax.plot(mean[:, 0], mean[:, 1], label='mean', color=colors[0])\n",
    "# ax.fill_between(mean[:, 0], mean[:, 1]-s*std, mean[:, 1]+s*std, color=colors[0], alpha=0.2, label='std')\n",
    "\n",
    "ax.plot(mean_hpo[:, 0], mean_hpo[:, 1], label='mean hpo', color=colors[1])\n",
    "# ax.fill_between(mean_hpo[:, 0], mean_hpo[:, 1]-s*std_hpo, mean_hpo[:, 1]+s*std_hpo, color=colors[1], alpha=0.2, label='std hpo')\n",
    "# ax.fill_between(mean_hpo[:, 0], q1, q3, color=colors[1], alpha=0.2, label='std hpo')\n",
    "\n",
    "ax.legend(ncol=2, loc='upper right')\n",
    "ax.set_ylim([0, None])\n",
    "ax.set_xlabel('Train steps [s]')\n",
    "ax.set_ylabel('RMSE')\n",
    "ax.set_title(r'GPMPC  200% mass')\n",
    "# set log x axis\n",
    "# ax.set_xscale('log')\n",
    "\n",
    "save_name = 'GPMPC_rmse_200_mass_50_sample_6_epoch'\n",
    "fig.savefig(save_name+'.pdf', bbox_inches='tight')\n",
    "\n",
    "results_hpo = {'rmse': rmse_data, 'train_steps': mean_hpo[:, 0]}\n",
    "np.save('gpmpc.npy', results_hpo)\n",
    "rmse_data.shape\n",
    "\n"
   ]
  },
  {
   "cell_type": "code",
   "execution_count": 110,
   "metadata": {},
   "outputs": [
    {
     "data": {
      "text/plain": [
       "array([[0.28630936, 0.05982058, 0.28829104, 0.05061444, 0.04963006,\n",
       "        0.05639375, 0.84132871, 0.05864602, 1.00946163, 0.38999454],\n",
       "       [0.28458793, 1.09810971, 2.10754249, 0.03991988, 0.04533763,\n",
       "        1.88956605, 0.04620656, 0.22758406, 0.81736927, 1.04170062],\n",
       "       [0.28458793, 1.09810971, 2.10754249, 0.03991988, 0.04533763,\n",
       "        1.88956605, 0.04620656, 0.22758406, 0.81736927, 1.04170062],\n",
       "       [0.28410577, 0.09063798, 1.46119739, 1.15472926, 1.90904177,\n",
       "        1.340839  , 1.38946428, 1.4217137 , 1.44922776, 1.89579876],\n",
       "       [0.28413072, 0.04254095, 0.03984011, 1.56935918, 0.03800731,\n",
       "        0.85036884, 1.5432578 , 0.04951293, 0.04101457, 0.03909865],\n",
       "       [0.28569209, 0.07983206, 0.04806048, 0.05799803, 1.25714393,\n",
       "        1.64186209, 0.05401999, 1.84684771, 0.05214346, 0.05993937],\n",
       "       [0.2848292 , 0.05547206, 0.05078195, 0.04943783, 0.98879843,\n",
       "        0.05008306, 0.0633078 , 2.00556945, 0.10860449, 0.08250505],\n",
       "       [0.28408237, 0.0497198 , 0.06902483, 0.04209665, 0.04041729,\n",
       "        0.05904941, 0.04336212, 0.04045381, 1.23571602, 1.82564367],\n",
       "       [0.2841659 , 1.46127934, 1.13634643, 1.62117404, 0.04133216,\n",
       "        0.04554312, 1.14211698, 0.06649972, 0.04329764, 0.05931443],\n",
       "       [0.28412883, 1.41544484, 1.83300782, 1.69965085, 1.30961074,\n",
       "        1.92692937, 0.04352939, 1.98620302, 0.0510191 , 1.96086214],\n",
       "       [0.28453974, 1.23775055, 0.04993799, 0.04990228, 0.05155223,\n",
       "        1.40885993, 0.09721192, 0.05062014, 0.04859523, 0.04976347],\n",
       "       [0.28402302, 0.05258268, 1.93768381, 0.04772929, 1.9159016 ,\n",
       "        0.04558667, 0.0464931 , 2.01568349, 1.4963239 , 0.04715684],\n",
       "       [0.28449575, 1.50134146, 1.16905279, 0.05454827, 0.05280022,\n",
       "        0.05235792, 1.07298328, 0.05439206, 0.05481269, 0.05345774],\n",
       "       [0.28473648, 0.07828774, 0.06802366, 0.05158667, 0.05022267,\n",
       "        0.05229286, 0.05482048, 0.04836329, 0.11896664, 1.06586432],\n",
       "       [0.28566399, 2.20871011, 1.31447674, 0.05747402, 0.05239188,\n",
       "        1.78298851, 0.05614626, 0.05558036, 0.05232646, 0.05465266],\n",
       "       [0.28389056, 0.03919599, 0.39111382, 0.0449466 , 0.04283261,\n",
       "        1.15348233, 0.05349087, 0.04272164, 1.00541544, 0.04428546],\n",
       "       [0.28497306, 0.04445905, 0.58928751, 0.05106707, 0.15001554,\n",
       "        0.05449952, 0.05416329, 0.06590902, 0.05858694, 0.05979882],\n",
       "       [0.28407965, 1.97990478, 1.76913753, 1.41328716, 0.04812125,\n",
       "        0.04565738, 1.54569882, 0.04820709, 2.07305408, 0.0468939 ],\n",
       "       [0.28505112, 1.07345179, 0.04923466, 0.05626561, 0.04914675,\n",
       "        0.04755425, 0.04751043, 0.05699899, 0.04637255, 1.01196302],\n",
       "       [0.28595323, 1.58589115, 1.38641722, 1.78581424, 1.19334788,\n",
       "        2.0017109 , 0.05638003, 2.09043809, 2.00378049, 0.05871877],\n",
       "       [0.28454076, 0.06570688, 0.05211393, 0.05172858, 0.04795911,\n",
       "        0.04663376, 2.08202208, 1.7622228 , 1.6640203 , 0.06471988],\n",
       "       [0.28423834, 1.7533631 , 0.04281881, 0.12624362, 0.04513968,\n",
       "        0.04632742, 0.04658397, 1.8960604 , 0.93570432, 0.04504927],\n",
       "       [0.28403071, 0.19676779, 1.49767414, 0.04244408, 0.04909065,\n",
       "        0.07818843, 0.04687195, 0.04230295, 0.05418034, 0.04479107],\n",
       "       [0.28582554, 1.12735229, 1.0774958 , 1.14044071, 1.11995033,\n",
       "        0.04941636, 0.0519614 , 0.05446731, 0.06992557, 0.05362089],\n",
       "       [0.28511221, 1.45506854, 1.88329734, 1.60716194, 0.04648075,\n",
       "        0.0536964 , 0.05051311, 0.04936257, 0.15886603, 0.05156056]])"
      ]
     },
     "execution_count": 110,
     "metadata": {},
     "output_type": "execute_result"
    }
   ],
   "source": [
    "rmse_data"
   ]
  },
  {
   "cell_type": "code",
   "execution_count": 111,
   "metadata": {},
   "outputs": [],
   "source": [
    "# for i in range(data.max_seed):\n",
    "#     print(data.merged_data[i][:, 1])"
   ]
  },
  {
   "cell_type": "code",
   "execution_count": 112,
   "metadata": {},
   "outputs": [
    {
     "name": "stdout",
     "output_type": "stream",
     "text": [
      "rmse_ilqr 0.026000000000000002 0.001843908891458577\n",
      "rmse_ilqr 0.012315 0.0019957417167559533\n"
     ]
    }
   ],
   "source": [
    "rmse_ilqr = [0.027, 0.027, 0.030, 0.024, 0.026, \n",
    "             0.026, 0.025, 0.027, 0.025, 0.023]\n",
    "rmse_mean_ilqr = np.mean(rmse_ilqr)\n",
    "rmse_std_ilqr = np.std(rmse_ilqr)\n",
    "print('rmse_ilqr', rmse_mean_ilqr, rmse_std_ilqr)\n",
    "results_ilqr = {'mean': rmse_mean_ilqr, 'std': rmse_std_ilqr}\n",
    "np.save('ilqr_ground_truth.npy', results_ilqr)\n",
    "\n",
    "rmse_ilqr = [0.01288,0.01417,0.01680,0.00985,0.01194,\n",
    "             0.01274,0.01160,0.01259,0.01091,0.00967,]\n",
    "rmse_mean_ilqr = np.mean(rmse_ilqr)\n",
    "rmse_std_ilqr = np.std(rmse_ilqr)\n",
    "print('rmse_ilqr', rmse_mean_ilqr, rmse_std_ilqr)\n",
    "results_ilqr = {'mean': rmse_mean_ilqr, 'std': rmse_std_ilqr}\n"
   ]
  },
  {
   "cell_type": "markdown",
   "metadata": {},
   "source": [
    "## MPC"
   ]
  },
  {
   "cell_type": "code",
   "execution_count": 118,
   "metadata": {},
   "outputs": [
    {
     "name": "stdout",
     "output_type": "stream",
     "text": [
      "traj_results.shape (100, 541, 6)\n",
      "rmse_mpc_acados_9 0.06669989755434953 0.0059149924488957496\n",
      "traj_results.shape (100, 601, 6)\n",
      "rmse_mpc_acados_10 0.053871034117811606 0.005462706718375091\n",
      "traj_results.shape (100, 661, 6)\n",
      "rmse_mpc_acados_11 0.04421752503119518 0.005051390779798208\n",
      "traj_results.shape (100, 721, 6)\n",
      "rmse_mpc_acados_12 0.03683269097948807 0.004678658729904046\n",
      "traj_results.shape (100, 781, 6)\n",
      "rmse_mpc_acados_13 0.03114085105579925 0.004329189069309211\n",
      "traj_results.shape (100, 841, 6)\n",
      "rmse_mpc_acados_14 0.026729791130908277 0.004006647728762217\n",
      "traj_results.shape (102, 901, 6)\n",
      "rmse_mpc_acados_15 0.023313325828377546 0.0036777069244840147\n"
     ]
    }
   ],
   "source": [
    "#mpc\n",
    "ctrl = 'mpc_acados'\n",
    "for additinonal in ['_9', '_10', '_11', '_12', '_13', '_14', '_15']:\n",
    "    data_folder = f'results_rollout{additinonal}/temp'\n",
    "    traj_resutls, metrics = extract_rollouts(notebook_dir, data_folder, ctrl, additinonal)"
   ]
  },
  {
   "cell_type": "code",
   "execution_count": null,
   "metadata": {},
   "outputs": [],
   "source": []
  },
  {
   "cell_type": "markdown",
   "metadata": {},
   "source": [
    "## gpmpc"
   ]
  },
  {
   "cell_type": "code",
   "execution_count": 114,
   "metadata": {},
   "outputs": [
    {
     "name": "stdout",
     "output_type": "stream",
     "text": [
      "traj_results.shape (130, 541, 6)\n",
      "rmse_gpmpc_acados_9 0.0723986310565132 0.005825023856729103\n",
      "traj_results.shape (100, 601, 6)\n",
      "rmse_gpmpc_acados_10 0.06001951283653607 0.005650813796205759\n",
      "traj_results.shape (79, 661, 6)\n",
      "rmse_gpmpc_acados_11 0.049872511450839645 0.005132586426383544\n",
      "traj_results.shape (100, 721, 6)\n",
      "rmse_gpmpc_acados_12 0.043216195868052004 0.005048544039303885\n",
      "traj_results.shape (100, 781, 6)\n",
      "rmse_gpmpc_acados_13 0.03819312862247324 0.004922580428116054\n",
      "traj_results.shape (100, 841, 6)\n",
      "rmse_gpmpc_acados_14 0.03440810993189095 0.004879404518445507\n",
      "traj_results.shape (100, 901, 6)\n",
      "rmse_gpmpc_acados_15 0.031425261835490235 0.004910546198568348\n"
     ]
    }
   ],
   "source": [
    "#gpmpc\n",
    "ctrl = 'gpmpc_acados'\n",
    "for additinonal in ['_9', '_10', '_11', '_12', '_13', '_14', '_15']:\n",
    "    data_folder = f'results/100_400_rollout{additinonal}/temp'\n",
    "    traj_resutls, metrics = extract_rollouts(notebook_dir, data_folder, ctrl, additinonal)"
   ]
  },
  {
   "cell_type": "markdown",
   "metadata": {},
   "source": [
    "## lmpc"
   ]
  },
  {
   "cell_type": "code",
   "execution_count": 117,
   "metadata": {},
   "outputs": [
    {
     "name": "stdout",
     "output_type": "stream",
     "text": [
      "traj_results.shape (101, 541, 6)\n",
      "rmse_linear_mpc_9 0.10363015782869267 0.004825855269260951\n",
      "traj_results.shape (100, 601, 6)\n",
      "rmse_linear_mpc_10 0.08321171658485764 0.004456539838199912\n",
      "traj_results.shape (101, 661, 6)\n",
      "rmse_linear_mpc_11 0.06745529702141057 0.003854571957715619\n",
      "traj_results.shape (100, 721, 6)\n",
      "rmse_linear_mpc_12 0.05575281010753317 0.0033564715382322897\n",
      "traj_results.shape (100, 781, 6)\n",
      "rmse_linear_mpc_13 0.04714083998242881 0.0030013781990673905\n",
      "traj_results.shape (100, 841, 6)\n",
      "rmse_linear_mpc_14 0.04068921844895369 0.00278069835757052\n",
      "traj_results.shape (101, 901, 6)\n",
      "rmse_linear_mpc_15 0.03574250675445726 0.002647060557505466\n"
     ]
    }
   ],
   "source": [
    "#linear mpc\n",
    "ctrl = 'linear_mpc'\n",
    "for additinonal in ['_9', '_10', '_11', '_12', '_13', '_14', '_15']:\n",
    "    data_folder = f'results_rollout{additinonal}/temp'\n",
    "    traj_resutls, metrics = extract_rollouts(notebook_dir, data_folder, ctrl, additinonal)"
   ]
  }
 ],
 "metadata": {
  "kernelspec": {
   "display_name": "Python 3",
   "language": "python",
   "name": "python3"
  },
  "language_info": {
   "codemirror_mode": {
    "name": "ipython",
    "version": 3
   },
   "file_extension": ".py",
   "mimetype": "text/x-python",
   "name": "python",
   "nbconvert_exporter": "python",
   "pygments_lexer": "ipython3",
   "version": "3.8.10"
  }
 },
 "nbformat": 4,
 "nbformat_minor": 2
}
